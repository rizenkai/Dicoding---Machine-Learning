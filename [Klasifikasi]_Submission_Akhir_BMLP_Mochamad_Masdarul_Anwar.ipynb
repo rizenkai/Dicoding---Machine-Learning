{
  "nbformat": 4,
  "nbformat_minor": 0,
  "metadata": {
    "colab": {
      "provenance": []
    },
    "kernelspec": {
      "name": "python3",
      "display_name": "Python 3"
    },
    "language_info": {
      "name": "python"
    }
  },
  "cells": [
    {
      "cell_type": "markdown",
      "source": [
        "# **1. Import Library**"
      ],
      "metadata": {
        "id": "fKADPWcFKlj3"
      }
    },
    {
      "cell_type": "markdown",
      "source": [
        "Pada tahap ini, Anda perlu mengimpor beberapa pustaka (library) Python yang dibutuhkan untuk analisis data dan pembangunan model machine learning."
      ],
      "metadata": {
        "id": "LgA3ERnVn84N"
      }
    },
    {
      "cell_type": "code",
      "source": [
        "import pandas as pd\n",
        "import numpy as np\n",
        "import seaborn as sns\n",
        "import matplotlib.pyplot as plt\n",
        "from sklearn.model_selection import train_test_split\n",
        "from sklearn.preprocessing import LabelEncoder, StandardScaler, MinMaxScaler\n",
        "from sklearn.neighbors import KNeighborsClassifier\n",
        "from sklearn.tree import DecisionTreeClassifier\n",
        "from sklearn.linear_model import LogisticRegression\n",
        "from sklearn.ensemble import RandomForestClassifier\n",
        "from sklearn.svm import SVC\n",
        "from sklearn.metrics import confusion_matrix, accuracy_score, precision_score, recall_score, f1_score"
      ],
      "metadata": {
        "id": "BlmvjLY9M4Yj"
      },
      "execution_count": 23,
      "outputs": []
    },
    {
      "cell_type": "markdown",
      "source": [
        "# **2. Memuat Dataset dari Hasil Clustering**"
      ],
      "metadata": {
        "id": "f3YIEnAFKrKL"
      }
    },
    {
      "cell_type": "markdown",
      "source": [
        "Memuat dataset hasil clustering dari file CSV ke dalam variabel DataFrame."
      ],
      "metadata": {
        "id": "Ey3ItwTen_7E"
      }
    },
    {
      "cell_type": "code",
      "source": [
        "df = pd.read_csv('/content/hasil_clustering.csv')\n",
        "df"
      ],
      "metadata": {
        "id": "GHCGNTyrM5fS",
        "colab": {
          "base_uri": "https://localhost:8080/",
          "height": 424
        },
        "outputId": "e3bc5273-e0b2-47a0-c87e-ab3082f98938"
      },
      "execution_count": 24,
      "outputs": [
        {
          "output_type": "execute_result",
          "data": {
            "text/plain": [
              "      Diet_type      Cuisine_type  Protein(g)  Carbs(g)  Fat(g)  Cluster\n",
              "0     caribbean          american        5.22      1.29    3.20        5\n",
              "1     caribbean  south east asian      181.55     28.62  146.14        2\n",
              "2     caribbean          american       30.91    302.59   96.76        5\n",
              "3     caribbean           mexican        9.62     75.78   59.89        8\n",
              "4     caribbean           chinese       39.84     54.08   71.55        6\n",
              "...         ...               ...         ...       ...     ...      ...\n",
              "7801   american           italian       85.20    288.14  137.15        3\n",
              "7802   american          american      141.98    123.18  323.50        0\n",
              "7803   american             world        0.01      0.39    0.00        2\n",
              "7804   american          american      155.38    239.88  260.84        0\n",
              "7805   american          american        0.02      0.83    0.00        0\n",
              "\n",
              "[7806 rows x 6 columns]"
            ],
            "text/html": [
              "\n",
              "  <div id=\"df-cdc94186-7d25-4040-8028-62a974b57e1c\" class=\"colab-df-container\">\n",
              "    <div>\n",
              "<style scoped>\n",
              "    .dataframe tbody tr th:only-of-type {\n",
              "        vertical-align: middle;\n",
              "    }\n",
              "\n",
              "    .dataframe tbody tr th {\n",
              "        vertical-align: top;\n",
              "    }\n",
              "\n",
              "    .dataframe thead th {\n",
              "        text-align: right;\n",
              "    }\n",
              "</style>\n",
              "<table border=\"1\" class=\"dataframe\">\n",
              "  <thead>\n",
              "    <tr style=\"text-align: right;\">\n",
              "      <th></th>\n",
              "      <th>Diet_type</th>\n",
              "      <th>Cuisine_type</th>\n",
              "      <th>Protein(g)</th>\n",
              "      <th>Carbs(g)</th>\n",
              "      <th>Fat(g)</th>\n",
              "      <th>Cluster</th>\n",
              "    </tr>\n",
              "  </thead>\n",
              "  <tbody>\n",
              "    <tr>\n",
              "      <th>0</th>\n",
              "      <td>caribbean</td>\n",
              "      <td>american</td>\n",
              "      <td>5.22</td>\n",
              "      <td>1.29</td>\n",
              "      <td>3.20</td>\n",
              "      <td>5</td>\n",
              "    </tr>\n",
              "    <tr>\n",
              "      <th>1</th>\n",
              "      <td>caribbean</td>\n",
              "      <td>south east asian</td>\n",
              "      <td>181.55</td>\n",
              "      <td>28.62</td>\n",
              "      <td>146.14</td>\n",
              "      <td>2</td>\n",
              "    </tr>\n",
              "    <tr>\n",
              "      <th>2</th>\n",
              "      <td>caribbean</td>\n",
              "      <td>american</td>\n",
              "      <td>30.91</td>\n",
              "      <td>302.59</td>\n",
              "      <td>96.76</td>\n",
              "      <td>5</td>\n",
              "    </tr>\n",
              "    <tr>\n",
              "      <th>3</th>\n",
              "      <td>caribbean</td>\n",
              "      <td>mexican</td>\n",
              "      <td>9.62</td>\n",
              "      <td>75.78</td>\n",
              "      <td>59.89</td>\n",
              "      <td>8</td>\n",
              "    </tr>\n",
              "    <tr>\n",
              "      <th>4</th>\n",
              "      <td>caribbean</td>\n",
              "      <td>chinese</td>\n",
              "      <td>39.84</td>\n",
              "      <td>54.08</td>\n",
              "      <td>71.55</td>\n",
              "      <td>6</td>\n",
              "    </tr>\n",
              "    <tr>\n",
              "      <th>...</th>\n",
              "      <td>...</td>\n",
              "      <td>...</td>\n",
              "      <td>...</td>\n",
              "      <td>...</td>\n",
              "      <td>...</td>\n",
              "      <td>...</td>\n",
              "    </tr>\n",
              "    <tr>\n",
              "      <th>7801</th>\n",
              "      <td>american</td>\n",
              "      <td>italian</td>\n",
              "      <td>85.20</td>\n",
              "      <td>288.14</td>\n",
              "      <td>137.15</td>\n",
              "      <td>3</td>\n",
              "    </tr>\n",
              "    <tr>\n",
              "      <th>7802</th>\n",
              "      <td>american</td>\n",
              "      <td>american</td>\n",
              "      <td>141.98</td>\n",
              "      <td>123.18</td>\n",
              "      <td>323.50</td>\n",
              "      <td>0</td>\n",
              "    </tr>\n",
              "    <tr>\n",
              "      <th>7803</th>\n",
              "      <td>american</td>\n",
              "      <td>world</td>\n",
              "      <td>0.01</td>\n",
              "      <td>0.39</td>\n",
              "      <td>0.00</td>\n",
              "      <td>2</td>\n",
              "    </tr>\n",
              "    <tr>\n",
              "      <th>7804</th>\n",
              "      <td>american</td>\n",
              "      <td>american</td>\n",
              "      <td>155.38</td>\n",
              "      <td>239.88</td>\n",
              "      <td>260.84</td>\n",
              "      <td>0</td>\n",
              "    </tr>\n",
              "    <tr>\n",
              "      <th>7805</th>\n",
              "      <td>american</td>\n",
              "      <td>american</td>\n",
              "      <td>0.02</td>\n",
              "      <td>0.83</td>\n",
              "      <td>0.00</td>\n",
              "      <td>0</td>\n",
              "    </tr>\n",
              "  </tbody>\n",
              "</table>\n",
              "<p>7806 rows × 6 columns</p>\n",
              "</div>\n",
              "    <div class=\"colab-df-buttons\">\n",
              "\n",
              "  <div class=\"colab-df-container\">\n",
              "    <button class=\"colab-df-convert\" onclick=\"convertToInteractive('df-cdc94186-7d25-4040-8028-62a974b57e1c')\"\n",
              "            title=\"Convert this dataframe to an interactive table.\"\n",
              "            style=\"display:none;\">\n",
              "\n",
              "  <svg xmlns=\"http://www.w3.org/2000/svg\" height=\"24px\" viewBox=\"0 -960 960 960\">\n",
              "    <path d=\"M120-120v-720h720v720H120Zm60-500h600v-160H180v160Zm220 220h160v-160H400v160Zm0 220h160v-160H400v160ZM180-400h160v-160H180v160Zm440 0h160v-160H620v160ZM180-180h160v-160H180v160Zm440 0h160v-160H620v160Z\"/>\n",
              "  </svg>\n",
              "    </button>\n",
              "\n",
              "  <style>\n",
              "    .colab-df-container {\n",
              "      display:flex;\n",
              "      gap: 12px;\n",
              "    }\n",
              "\n",
              "    .colab-df-convert {\n",
              "      background-color: #E8F0FE;\n",
              "      border: none;\n",
              "      border-radius: 50%;\n",
              "      cursor: pointer;\n",
              "      display: none;\n",
              "      fill: #1967D2;\n",
              "      height: 32px;\n",
              "      padding: 0 0 0 0;\n",
              "      width: 32px;\n",
              "    }\n",
              "\n",
              "    .colab-df-convert:hover {\n",
              "      background-color: #E2EBFA;\n",
              "      box-shadow: 0px 1px 2px rgba(60, 64, 67, 0.3), 0px 1px 3px 1px rgba(60, 64, 67, 0.15);\n",
              "      fill: #174EA6;\n",
              "    }\n",
              "\n",
              "    .colab-df-buttons div {\n",
              "      margin-bottom: 4px;\n",
              "    }\n",
              "\n",
              "    [theme=dark] .colab-df-convert {\n",
              "      background-color: #3B4455;\n",
              "      fill: #D2E3FC;\n",
              "    }\n",
              "\n",
              "    [theme=dark] .colab-df-convert:hover {\n",
              "      background-color: #434B5C;\n",
              "      box-shadow: 0px 1px 3px 1px rgba(0, 0, 0, 0.15);\n",
              "      filter: drop-shadow(0px 1px 2px rgba(0, 0, 0, 0.3));\n",
              "      fill: #FFFFFF;\n",
              "    }\n",
              "  </style>\n",
              "\n",
              "    <script>\n",
              "      const buttonEl =\n",
              "        document.querySelector('#df-cdc94186-7d25-4040-8028-62a974b57e1c button.colab-df-convert');\n",
              "      buttonEl.style.display =\n",
              "        google.colab.kernel.accessAllowed ? 'block' : 'none';\n",
              "\n",
              "      async function convertToInteractive(key) {\n",
              "        const element = document.querySelector('#df-cdc94186-7d25-4040-8028-62a974b57e1c');\n",
              "        const dataTable =\n",
              "          await google.colab.kernel.invokeFunction('convertToInteractive',\n",
              "                                                    [key], {});\n",
              "        if (!dataTable) return;\n",
              "\n",
              "        const docLinkHtml = 'Like what you see? Visit the ' +\n",
              "          '<a target=\"_blank\" href=https://colab.research.google.com/notebooks/data_table.ipynb>data table notebook</a>'\n",
              "          + ' to learn more about interactive tables.';\n",
              "        element.innerHTML = '';\n",
              "        dataTable['output_type'] = 'display_data';\n",
              "        await google.colab.output.renderOutput(dataTable, element);\n",
              "        const docLink = document.createElement('div');\n",
              "        docLink.innerHTML = docLinkHtml;\n",
              "        element.appendChild(docLink);\n",
              "      }\n",
              "    </script>\n",
              "  </div>\n",
              "\n",
              "\n",
              "<div id=\"df-68139fc6-7ae3-416e-a6b9-afeb5130e7d1\">\n",
              "  <button class=\"colab-df-quickchart\" onclick=\"quickchart('df-68139fc6-7ae3-416e-a6b9-afeb5130e7d1')\"\n",
              "            title=\"Suggest charts\"\n",
              "            style=\"display:none;\">\n",
              "\n",
              "<svg xmlns=\"http://www.w3.org/2000/svg\" height=\"24px\"viewBox=\"0 0 24 24\"\n",
              "     width=\"24px\">\n",
              "    <g>\n",
              "        <path d=\"M19 3H5c-1.1 0-2 .9-2 2v14c0 1.1.9 2 2 2h14c1.1 0 2-.9 2-2V5c0-1.1-.9-2-2-2zM9 17H7v-7h2v7zm4 0h-2V7h2v10zm4 0h-2v-4h2v4z\"/>\n",
              "    </g>\n",
              "</svg>\n",
              "  </button>\n",
              "\n",
              "<style>\n",
              "  .colab-df-quickchart {\n",
              "      --bg-color: #E8F0FE;\n",
              "      --fill-color: #1967D2;\n",
              "      --hover-bg-color: #E2EBFA;\n",
              "      --hover-fill-color: #174EA6;\n",
              "      --disabled-fill-color: #AAA;\n",
              "      --disabled-bg-color: #DDD;\n",
              "  }\n",
              "\n",
              "  [theme=dark] .colab-df-quickchart {\n",
              "      --bg-color: #3B4455;\n",
              "      --fill-color: #D2E3FC;\n",
              "      --hover-bg-color: #434B5C;\n",
              "      --hover-fill-color: #FFFFFF;\n",
              "      --disabled-bg-color: #3B4455;\n",
              "      --disabled-fill-color: #666;\n",
              "  }\n",
              "\n",
              "  .colab-df-quickchart {\n",
              "    background-color: var(--bg-color);\n",
              "    border: none;\n",
              "    border-radius: 50%;\n",
              "    cursor: pointer;\n",
              "    display: none;\n",
              "    fill: var(--fill-color);\n",
              "    height: 32px;\n",
              "    padding: 0;\n",
              "    width: 32px;\n",
              "  }\n",
              "\n",
              "  .colab-df-quickchart:hover {\n",
              "    background-color: var(--hover-bg-color);\n",
              "    box-shadow: 0 1px 2px rgba(60, 64, 67, 0.3), 0 1px 3px 1px rgba(60, 64, 67, 0.15);\n",
              "    fill: var(--button-hover-fill-color);\n",
              "  }\n",
              "\n",
              "  .colab-df-quickchart-complete:disabled,\n",
              "  .colab-df-quickchart-complete:disabled:hover {\n",
              "    background-color: var(--disabled-bg-color);\n",
              "    fill: var(--disabled-fill-color);\n",
              "    box-shadow: none;\n",
              "  }\n",
              "\n",
              "  .colab-df-spinner {\n",
              "    border: 2px solid var(--fill-color);\n",
              "    border-color: transparent;\n",
              "    border-bottom-color: var(--fill-color);\n",
              "    animation:\n",
              "      spin 1s steps(1) infinite;\n",
              "  }\n",
              "\n",
              "  @keyframes spin {\n",
              "    0% {\n",
              "      border-color: transparent;\n",
              "      border-bottom-color: var(--fill-color);\n",
              "      border-left-color: var(--fill-color);\n",
              "    }\n",
              "    20% {\n",
              "      border-color: transparent;\n",
              "      border-left-color: var(--fill-color);\n",
              "      border-top-color: var(--fill-color);\n",
              "    }\n",
              "    30% {\n",
              "      border-color: transparent;\n",
              "      border-left-color: var(--fill-color);\n",
              "      border-top-color: var(--fill-color);\n",
              "      border-right-color: var(--fill-color);\n",
              "    }\n",
              "    40% {\n",
              "      border-color: transparent;\n",
              "      border-right-color: var(--fill-color);\n",
              "      border-top-color: var(--fill-color);\n",
              "    }\n",
              "    60% {\n",
              "      border-color: transparent;\n",
              "      border-right-color: var(--fill-color);\n",
              "    }\n",
              "    80% {\n",
              "      border-color: transparent;\n",
              "      border-right-color: var(--fill-color);\n",
              "      border-bottom-color: var(--fill-color);\n",
              "    }\n",
              "    90% {\n",
              "      border-color: transparent;\n",
              "      border-bottom-color: var(--fill-color);\n",
              "    }\n",
              "  }\n",
              "</style>\n",
              "\n",
              "  <script>\n",
              "    async function quickchart(key) {\n",
              "      const quickchartButtonEl =\n",
              "        document.querySelector('#' + key + ' button');\n",
              "      quickchartButtonEl.disabled = true;  // To prevent multiple clicks.\n",
              "      quickchartButtonEl.classList.add('colab-df-spinner');\n",
              "      try {\n",
              "        const charts = await google.colab.kernel.invokeFunction(\n",
              "            'suggestCharts', [key], {});\n",
              "      } catch (error) {\n",
              "        console.error('Error during call to suggestCharts:', error);\n",
              "      }\n",
              "      quickchartButtonEl.classList.remove('colab-df-spinner');\n",
              "      quickchartButtonEl.classList.add('colab-df-quickchart-complete');\n",
              "    }\n",
              "    (() => {\n",
              "      let quickchartButtonEl =\n",
              "        document.querySelector('#df-68139fc6-7ae3-416e-a6b9-afeb5130e7d1 button');\n",
              "      quickchartButtonEl.style.display =\n",
              "        google.colab.kernel.accessAllowed ? 'block' : 'none';\n",
              "    })();\n",
              "  </script>\n",
              "</div>\n",
              "\n",
              "  <div id=\"id_fc39f205-3d61-482d-a788-99c7ae6882f0\">\n",
              "    <style>\n",
              "      .colab-df-generate {\n",
              "        background-color: #E8F0FE;\n",
              "        border: none;\n",
              "        border-radius: 50%;\n",
              "        cursor: pointer;\n",
              "        display: none;\n",
              "        fill: #1967D2;\n",
              "        height: 32px;\n",
              "        padding: 0 0 0 0;\n",
              "        width: 32px;\n",
              "      }\n",
              "\n",
              "      .colab-df-generate:hover {\n",
              "        background-color: #E2EBFA;\n",
              "        box-shadow: 0px 1px 2px rgba(60, 64, 67, 0.3), 0px 1px 3px 1px rgba(60, 64, 67, 0.15);\n",
              "        fill: #174EA6;\n",
              "      }\n",
              "\n",
              "      [theme=dark] .colab-df-generate {\n",
              "        background-color: #3B4455;\n",
              "        fill: #D2E3FC;\n",
              "      }\n",
              "\n",
              "      [theme=dark] .colab-df-generate:hover {\n",
              "        background-color: #434B5C;\n",
              "        box-shadow: 0px 1px 3px 1px rgba(0, 0, 0, 0.15);\n",
              "        filter: drop-shadow(0px 1px 2px rgba(0, 0, 0, 0.3));\n",
              "        fill: #FFFFFF;\n",
              "      }\n",
              "    </style>\n",
              "    <button class=\"colab-df-generate\" onclick=\"generateWithVariable('df')\"\n",
              "            title=\"Generate code using this dataframe.\"\n",
              "            style=\"display:none;\">\n",
              "\n",
              "  <svg xmlns=\"http://www.w3.org/2000/svg\" height=\"24px\"viewBox=\"0 0 24 24\"\n",
              "       width=\"24px\">\n",
              "    <path d=\"M7,19H8.4L18.45,9,17,7.55,7,17.6ZM5,21V16.75L18.45,3.32a2,2,0,0,1,2.83,0l1.4,1.43a1.91,1.91,0,0,1,.58,1.4,1.91,1.91,0,0,1-.58,1.4L9.25,21ZM18.45,9,17,7.55Zm-12,3A5.31,5.31,0,0,0,4.9,8.1,5.31,5.31,0,0,0,1,6.5,5.31,5.31,0,0,0,4.9,4.9,5.31,5.31,0,0,0,6.5,1,5.31,5.31,0,0,0,8.1,4.9,5.31,5.31,0,0,0,12,6.5,5.46,5.46,0,0,0,6.5,12Z\"/>\n",
              "  </svg>\n",
              "    </button>\n",
              "    <script>\n",
              "      (() => {\n",
              "      const buttonEl =\n",
              "        document.querySelector('#id_fc39f205-3d61-482d-a788-99c7ae6882f0 button.colab-df-generate');\n",
              "      buttonEl.style.display =\n",
              "        google.colab.kernel.accessAllowed ? 'block' : 'none';\n",
              "\n",
              "      buttonEl.onclick = () => {\n",
              "        google.colab.notebook.generateWithVariable('df');\n",
              "      }\n",
              "      })();\n",
              "    </script>\n",
              "  </div>\n",
              "\n",
              "    </div>\n",
              "  </div>\n"
            ],
            "application/vnd.google.colaboratory.intrinsic+json": {
              "type": "dataframe",
              "variable_name": "df",
              "summary": "{\n  \"name\": \"df\",\n  \"rows\": 7806,\n  \"fields\": [\n    {\n      \"column\": \"Diet_type\",\n      \"properties\": {\n        \"dtype\": \"category\",\n        \"num_unique_values\": 5,\n        \"samples\": [\n          \"central europe\",\n          \"american\",\n          \"asian\"\n        ],\n        \"semantic_type\": \"\",\n        \"description\": \"\"\n      }\n    },\n    {\n      \"column\": \"Cuisine_type\",\n      \"properties\": {\n        \"dtype\": \"category\",\n        \"num_unique_values\": 19,\n        \"samples\": [\n          \"american\",\n          \"italian\",\n          \"kosher\"\n        ],\n        \"semantic_type\": \"\",\n        \"description\": \"\"\n      }\n    },\n    {\n      \"column\": \"Protein(g)\",\n      \"properties\": {\n        \"dtype\": \"number\",\n        \"std\": 89.79728151626966,\n        \"min\": 0.0,\n        \"max\": 1273.61,\n        \"num_unique_values\": 6060,\n        \"samples\": [\n          128.29,\n          5.989999999999995,\n          87.94\n        ],\n        \"semantic_type\": \"\",\n        \"description\": \"\"\n      }\n    },\n    {\n      \"column\": \"Carbs(g)\",\n      \"properties\": {\n        \"dtype\": \"number\",\n        \"std\": 185.90732222474702,\n        \"min\": 0.0600000000000022,\n        \"max\": 3405.55,\n        \"num_unique_values\": 6618,\n        \"samples\": [\n          41.250000000000014,\n          483.85,\n          60.25\n        ],\n        \"semantic_type\": \"\",\n        \"description\": \"\"\n      }\n    },\n    {\n      \"column\": \"Fat(g)\",\n      \"properties\": {\n        \"dtype\": \"number\",\n        \"std\": 122.09811689609323,\n        \"min\": 0.0,\n        \"max\": 1930.24,\n        \"num_unique_values\": 6322,\n        \"samples\": [\n          407.58,\n          201.65,\n          139.99\n        ],\n        \"semantic_type\": \"\",\n        \"description\": \"\"\n      }\n    },\n    {\n      \"column\": \"Cluster\",\n      \"properties\": {\n        \"dtype\": \"number\",\n        \"std\": 2,\n        \"min\": 0,\n        \"max\": 8,\n        \"num_unique_values\": 9,\n        \"samples\": [\n          1,\n          2,\n          4\n        ],\n        \"semantic_type\": \"\",\n        \"description\": \"\"\n      }\n    }\n  ]\n}"
            }
          },
          "metadata": {},
          "execution_count": 24
        }
      ]
    },
    {
      "cell_type": "markdown",
      "source": [
        "# **3. Data Splitting**"
      ],
      "metadata": {
        "id": "KkPem5eWL2UP"
      }
    },
    {
      "cell_type": "markdown",
      "source": [
        "Tahap Data Splitting bertujuan untuk memisahkan dataset menjadi dua bagian: data latih (training set) dan data uji (test set)."
      ],
      "metadata": {
        "id": "YYj1rl_JNI9Y"
      }
    },
    {
      "cell_type": "code",
      "source": [
        "X = df.drop('Cluster', axis=1)\n",
        "y = df['Cluster']\n",
        "X_train, X_test, y_train, y_test = train_test_split(X, y, test_size=0.2, random_state=42)"
      ],
      "metadata": {
        "id": "OubAW-7ONKVj"
      },
      "execution_count": 25,
      "outputs": []
    },
    {
      "cell_type": "markdown",
      "source": [
        "# **4. Membangun Model Klasifikasi**\n"
      ],
      "metadata": {
        "id": "IVPbB03CMhTT"
      }
    },
    {
      "cell_type": "markdown",
      "source": [
        "## **a. Membangun Model Klasifikasi**"
      ],
      "metadata": {
        "id": "Ned1pL9zMmBK"
      }
    },
    {
      "cell_type": "markdown",
      "source": [
        "Setelah memilih algoritma klasifikasi yang sesuai, langkah selanjutnya adalah melatih model menggunakan data latih.\n",
        "\n",
        "Berikut adalah rekomendasi tahapannya.\n",
        "1. Pilih algoritma klasifikasi yang sesuai, seperti Logistic Regression, Decision Tree, Random Forest, atau K-Nearest Neighbors (KNN).\n",
        "2. Latih model menggunakan data latih."
      ],
      "metadata": {
        "id": "WAWzPOE4Nkti"
      }
    },
    {
      "cell_type": "code",
      "source": [
        "models = {\n",
        "    \"Decision Tree\": DecisionTreeClassifier(),\n",
        "    \"Random Forest\": RandomForestClassifier(),\n",
        "}"
      ],
      "metadata": {
        "id": "4JYxBe87NLDk"
      },
      "execution_count": 26,
      "outputs": []
    },
    {
      "cell_type": "code",
      "source": [
        "encoder = LabelEncoder()\n",
        "\n",
        "for col in X_train.select_dtypes(include=['object']).columns:\n",
        "    X_train[col] = encoder.fit_transform(X_train[col])\n",
        "    X_test[col] = encoder.transform(X_test[col])"
      ],
      "metadata": {
        "id": "tMq4QAssNLip"
      },
      "execution_count": 27,
      "outputs": []
    },
    {
      "cell_type": "markdown",
      "source": [
        "Tulis narasi atau penjelasan algoritma yang Anda gunakan."
      ],
      "metadata": {
        "id": "seYoHNY3XU1y"
      }
    },
    {
      "cell_type": "markdown",
      "source": [
        "## **b. Evaluasi Model Klasifikasi**"
      ],
      "metadata": {
        "id": "ergzChZFEL-O"
      }
    },
    {
      "cell_type": "markdown",
      "source": [
        "Berikut adalah **rekomendasi** tahapannya.\n",
        "1. Lakukan prediksi menggunakan data uji.\n",
        "2. Hitung metrik evaluasi seperti Accuracy dan F1-Score (Opsional: Precision dan Recall).\n",
        "3. Buat confusion matrix untuk melihat detail prediksi benar dan salah."
      ],
      "metadata": {
        "id": "zOm68u-7NpLT"
      }
    },
    {
      "cell_type": "code",
      "source": [
        "results = {}\n",
        "for name, model in models.items():\n",
        "    # Fit the model on the training data\n",
        "    model.fit(X_train, y_train)\n",
        "\n",
        "    # Predict the target variable for the test data\n",
        "    y_pred = model.predict(X_test)\n",
        "\n",
        "    accuracy = accuracy_score(y_test, y_pred)\n",
        "    precision = precision_score(y_test, y_pred, average='weighted')\n",
        "    recall = recall_score(y_test, y_pred, average='weighted')\n",
        "    f1 = f1_score(y_test, y_pred, average='weighted')\n",
        "    cm = confusion_matrix(y_test, y_pred)\n",
        "\n",
        "    results[name] = {\n",
        "        \"accuracy\": accuracy,\n",
        "        \"precision\": precision,\n",
        "        \"recall\": recall,\n",
        "        \"f1_score\": f1,\n",
        "        \"confusion_matrix\": cm\n",
        "    }\n",
        "\n",
        "    print(f\"Hasil evaluasi model {name}:\")\n",
        "    print(f\"Accuracy: {accuracy:.4f}\")\n",
        "    print(f\"Precision: {precision:.4f}\")\n",
        "    print(f\"Recall: {recall:.4f}\")\n",
        "    print(f\"F1-score: {f1:.4f}\")\n",
        "    print(\"Confusion Matrix:\")\n",
        "    print(cm)\n",
        "    print(\"-\" * 20)"
      ],
      "metadata": {
        "id": "4jb-P_udZKYt",
        "colab": {
          "base_uri": "https://localhost:8080/"
        },
        "outputId": "07555f0a-85fb-41e1-e756-cdb44e7d5974"
      },
      "execution_count": 28,
      "outputs": [
        {
          "output_type": "stream",
          "name": "stdout",
          "text": [
            "Hasil evaluasi model Decision Tree:\n",
            "Accuracy: 0.9744\n",
            "Precision: 0.9739\n",
            "Recall: 0.9744\n",
            "F1-score: 0.9740\n",
            "Confusion Matrix:\n",
            "[[289   0   0   0   5   0   0   0   0]\n",
            " [  0  75   0   0   0   0   0   0   0]\n",
            " [  0   0 139   0   0   0   0   0   0]\n",
            " [  0   0   0 158   0   0   3   0   0]\n",
            " [  5   0   0   0  54   6   0   0   0]\n",
            " [  3   0   0   0   0 309   0   0   0]\n",
            " [  0   0   0   1   0   0 175   1   0]\n",
            " [  0   1   2   6   0   0   0  43   2]\n",
            " [  0   0   0   0   0   0   0   5 280]]\n",
            "--------------------\n",
            "Hasil evaluasi model Random Forest:\n",
            "Accuracy: 0.9853\n",
            "Precision: 0.9854\n",
            "Recall: 0.9853\n",
            "F1-score: 0.9850\n",
            "Confusion Matrix:\n",
            "[[294   0   0   0   0   0   0   0   0]\n",
            " [  0  75   0   0   0   0   0   0   0]\n",
            " [  0   0 139   0   0   0   0   0   0]\n",
            " [  0   0   0 159   0   0   2   0   0]\n",
            " [  6   0   0   0  56   3   0   0   0]\n",
            " [  3   0   0   0   0 309   0   0   0]\n",
            " [  0   0   0   0   0   0 177   0   0]\n",
            " [  0   0   0   4   0   0   1  47   2]\n",
            " [  0   0   0   0   0   0   0   2 283]]\n",
            "--------------------\n"
          ]
        }
      ]
    },
    {
      "cell_type": "markdown",
      "source": [
        "Tulis hasil evaluasi algoritma yang digunakan, jika Anda menggunakan 2 algoritma, maka bandingkan hasilnya.\n",
        "\n",
        "Berikut adalah hasil evaluasi dan perbandingan dua algoritma yang digunakan, yaitu **Decision Tree** dan **Random Forest**:\n",
        "\n",
        "### 1. **Decision Tree**\n",
        "- **Accuracy**: 0.9744\n",
        "- **Precision**: 0.9739\n",
        "- **Recall**: 0.9744\n",
        "- **F1-score**: 0.9740\n",
        "- **Confusion Matrix**:\n",
        "  ```\n",
        "  [[289   0   0   0   5   0   0   0   0]\n",
        "   [  0  75   0   0   0   0   0   0   0]\n",
        "   [  0   0 139   0   0   0   0   0   0]\n",
        "   [  0   0   0 158   0   0   3   0   0]\n",
        "   [  5   0   0   0  54   6   0   0   0]\n",
        "   [  3   0   0   0   0 309   0   0   0]\n",
        "   [  0   0   0   1   0   0 175   1   0]\n",
        "   [  0   1   2   6   0   0   0  43   2]\n",
        "   [  0   0   0   0   0   0   0   5 280]]\n",
        "  ```\n",
        "\n",
        "**Kelebihan Decision Tree**:\n",
        "- Mudah diinterpretasi.\n",
        "- Cepat dalam proses pelatihan, terutama untuk dataset kecil.\n",
        "  \n",
        "**Kekurangan Decision Tree**:\n",
        "- Lebih rentan terhadap overfitting.\n",
        "- Kurang stabil terhadap perubahan data kecil.\n",
        "\n",
        "---\n",
        "\n",
        "### 2. **Random Forest**\n",
        "- **Accuracy**: 0.9853\n",
        "- **Precision**: 0.9854\n",
        "- **Recall**: 0.9853\n",
        "- **F1-score**: 0.9850\n",
        "- **Confusion Matrix**:\n",
        "  ```\n",
        "  [[294   0   0   0   0   0   0   0   0]\n",
        "   [  0  75   0   0   0   0   0   0   0]\n",
        "   [  0   0 139   0   0   0   0   0   0]\n",
        "   [  0   0   0 159   0   0   2   0   0]\n",
        "   [  6   0   0   0  56   3   0   0   0]\n",
        "   [  3   0   0   0   0 309   0   0   0]\n",
        "   [  0   0   0   0   0   0 177   0   0]\n",
        "   [  0   0   0   4   0   0   1  47   2]\n",
        "   [  0   0   0   0   0   0   0   2 283]]\n",
        "  ```\n",
        "\n",
        "**Kelebihan Random Forest**:\n",
        "- Lebih akurat dibanding Decision Tree karena menggunakan teknik ensemble.\n",
        "- Tahan terhadap overfitting dengan melakukan rata-rata prediksi beberapa pohon.\n",
        "\n",
        "**Kekurangan Random Forest**:\n",
        "- Waktu pelatihan lebih lama dibanding Decision Tree.\n",
        "- Sulit diinterpretasi karena melibatkan banyak pohon.\n",
        "\n",
        "---\n",
        "\n",
        "### 3. **Perbandingan Kinerja**\n",
        "| Metode          | Accuracy | Precision | Recall | F1-Score |\n",
        "|------------------|----------|-----------|--------|----------|\n",
        "| **Decision Tree** | 0.9744   | 0.9739    | 0.9744 | 0.9740   |\n",
        "| **Random Forest** | 0.9853   | 0.9854    | 0.9853 | 0.9850   |\n",
        "\n",
        "Dari hasil evaluasi, **Random Forest** memberikan performa yang lebih baik dibandingkan dengan **Decision Tree** pada semua metrik evaluasi. Hal ini menunjukkan bahwa Random Forest lebih andal dalam menangani dataset dengan kompleksitas lebih tinggi dan mampu mengurangi risiko overfitting.\n",
        "\n"
      ],
      "metadata": {
        "id": "H4_9OwrsXZlz"
      }
    },
    {
      "cell_type": "markdown",
      "source": [
        "## **c. Tuning Model Klasifikasi (Optional)**"
      ],
      "metadata": {
        "id": "ph9yIYDXEPuB"
      }
    },
    {
      "cell_type": "markdown",
      "source": [
        "Gunakan GridSearchCV, RandomizedSearchCV, atau metode lainnya untuk mencari kombinasi hyperparameter terbaik"
      ],
      "metadata": {
        "id": "-Bikx3LINv5e"
      }
    },
    {
      "cell_type": "code",
      "source": [
        "#Type your code here"
      ],
      "metadata": {
        "id": "winbFzb8NL95"
      },
      "execution_count": 29,
      "outputs": []
    },
    {
      "cell_type": "markdown",
      "source": [
        "## **d. Evaluasi Model Klasifikasi setelah Tuning (Optional)**"
      ],
      "metadata": {
        "id": "hE7pqlEPEYzI"
      }
    },
    {
      "cell_type": "markdown",
      "source": [
        "Berikut adalah rekomendasi tahapannya.\n",
        "1. Gunakan model dengan hyperparameter terbaik.\n",
        "2. Hitung ulang metrik evaluasi untuk melihat apakah ada peningkatan performa."
      ],
      "metadata": {
        "id": "feaPESoeN0zz"
      }
    },
    {
      "cell_type": "code",
      "source": [
        "#Type your code here"
      ],
      "metadata": {
        "id": "HTXZRvEeNMb1"
      },
      "execution_count": 30,
      "outputs": []
    },
    {
      "cell_type": "markdown",
      "source": [
        "## **e. Analisis Hasil Evaluasi Model Klasifikasi**"
      ],
      "metadata": {
        "id": "ZRsOdm4uEgAW"
      }
    },
    {
      "cell_type": "markdown",
      "source": [
        "\n",
        "\n",
        "### **1. Identifikasi Model**\n",
        "Berdasarkan hasil evaluasi yang telah dilakukan, kita dapat menganalisis metrik dan hasil confusion matrix dari **Decision Tree** dan **Random Forest**:\n",
        "\n",
        "#### **Precision, Recall, dan F1-Score**\n",
        "- **Decision Tree**:\n",
        "  - **Precision**: 0.9739\n",
        "  - **Recall**: 0.9744\n",
        "  - **F1-Score**: 0.9740\n",
        "- **Random Forest**:\n",
        "  - **Precision**: 0.9854\n",
        "  - **Recall**: 0.9853\n",
        "  - **F1-Score**: 0.9850\n",
        "\n",
        "Semua metrik menunjukkan performa yang sangat baik untuk kedua model. Nilai precision, recall, dan F1-score yang tinggi mengindikasikan bahwa kedua model bekerja dengan baik dalam mengklasifikasikan data. Namun, perlu diperhatikan bahwa **Random Forest** sedikit lebih unggul dibandingkan dengan **Decision Tree**.\n",
        "\n",
        "#### **Confusion Matrix**\n",
        "Confusion Matrix untuk kedua model:\n",
        "```\n",
        "[[289   0   0   0   5   0   0   0   0]\n",
        " [  0  75   0   0   0   0   0   0   0]\n",
        " [  0   0 139   0   0   0   0   0   0]\n",
        " [  0   0   0 158   0   0   3   0   0]\n",
        " [  5   0   0   0  54   6   0   0   0]\n",
        " [  3   0   0   0   0 309   0   0   0]\n",
        " [  0   0   0   1   0   0 175   1   0]\n",
        " [  0   1   2   6   0   0   0  43   2]\n",
        " [  0   0   0   0   0   0   0   5 280]]\n",
        "```\n",
        "\n",
        "- **Temuan**:\n",
        "  - Secara umum, kedua model menunjukkan performa yang baik, dengan hanya sedikit kesalahan di beberapa kelas. Misalnya, **kelas 5** dan **kelas 8** memiliki beberapa **False Positives** dan **False Negatives** yang menunjukkan adanya kesalahan klasifikasi pada kelas-kelas tersebut.\n",
        "  - Tidak ada prediksi positif yang signifikan untuk kelas minoritas di beberapa kasus. Ini mengindikasikan bahwa ada kemungkinan ketidakseimbangan kelas pada dataset.\n",
        "\n",
        "---\n",
        "\n",
        "### **2. Analisis Fitting**\n",
        "#### **Overfitting**\n",
        "- **Decision Tree** mungkin mengalami **overfitting**, terutama jika pohon terlalu dalam dan model hanya menyesuaikan diri dengan data pelatihan, meskipun hasil confusion matrix menunjukkan performa yang baik. Random Forest cenderung lebih robust terhadap overfitting karena menggunakan banyak pohon dan menggabungkan hasilnya.\n",
        "\n",
        "#### **Underfitting**\n",
        "- Tidak ada indikasi **underfitting** pada kedua model, karena metrik evaluasi yang sangat tinggi menunjukkan bahwa model telah belajar dengan baik dari data dan menangkap pola yang relevan.\n",
        "\n",
        "---\n",
        "\n",
        "### **3. Rekomendasi Tindakan Lanjutan**\n",
        "\n",
        "Berdasarkan hasil analisis, berikut adalah beberapa rekomendasi untuk langkah selanjutnya:\n",
        "\n",
        "#### **a. Validasi Model dengan Cross-Validation**\n",
        "- Disarankan untuk menggunakan **k-fold cross-validation** untuk memastikan bahwa performa model konsisten pada seluruh dataset. Hal ini akan membantu mengurangi bias akibat pembagian data yang tidak representatif.\n",
        "\n",
        "#### **b. Analisis Dataset**\n",
        "- **Ketidakseimbangan Kelas**: Karena kita melihat bahwa beberapa kelas minoritas memiliki masalah dalam prediksi (misalnya, kelas 5 dan kelas 8), disarankan untuk menerapkan teknik penanganan ketidakseimbangan kelas. Beberapa teknik yang dapat diterapkan adalah:\n",
        "  - **Oversampling (SMOTE)** pada kelas minoritas.\n",
        "  - **Undersampling** pada kelas mayoritas.\n",
        "  - Menyesuaikan **class-weight** pada model untuk memberi bobot lebih besar pada kelas yang kurang terwakili.\n",
        "  \n",
        "- **Distribusi Data**: Analisis distribusi data untuk setiap fitur dan kelas sangat penting untuk memastikan bahwa dataset cukup representatif terhadap masalah dunia nyata. Jika ada ketidakseimbangan atau kesalahan dalam distribusi data, perlu dilakukan penyesuaian pada dataset.\n",
        "\n",
        "#### **c. Eksperimen dengan Dataset yang Lebih Kompleks**\n",
        "- Jika dataset terlalu sederhana, pertimbangkan untuk **memperluas dataset** dengan data baru atau data yang lebih bervariasi. Dataset yang lebih kompleks dan beragam akan lebih mencerminkan dunia nyata dan meningkatkan kemampuan generalisasi model.\n",
        "\n",
        "#### **d. Coba Algoritma dan Pendekatan Lain**\n",
        "- Selain **Decision Tree** dan **Random Forest**, kita juga bisa mencoba algoritma lain seperti:\n",
        "  - **Logistic Regression** untuk klasifikasi linier.\n",
        "  - **SVM (Support Vector Machine)**, yang sering kali memberikan hasil yang baik pada masalah klasifikasi.\n",
        "  - **Ensemble methods** seperti **XGBoost** atau **LightGBM**, yang dapat mengatasi ketidakseimbangan kelas dan meningkatkan akurasi model secara keseluruhan.\n",
        "\n",
        "#### **e. Tuning Hyperparameter**\n",
        "- Gunakan **grid search** atau **random search** untuk mencari kombinasi hyperparameter terbaik, terutama pada **Random Forest** dan **K-Nearest Neighbors**. Hyperparameter seperti jumlah pohon (n_estimators) dan kedalaman pohon (max_depth) pada Random Forest, serta jumlah tetangga (n_neighbors) pada KNN, dapat mempengaruhi performa model secara signifikan.\n",
        "\n",
        "#### **f. Evaluasi dengan Data Baru**\n",
        "- Jika memungkinkan, **uji model dengan dataset eksternal** atau data baru untuk menguji kemampuannya dalam **generalize** pada data yang tidak terlihat sebelumnya. Ini akan memberi gambaran yang lebih jelas tentang kinerja model dalam situasi dunia nyata.\n",
        "\n",
        "#### **g. Tambahkan Metrik Evaluasi Lain**\n",
        "- Selain **Precision**, **Recall**, dan **F1-Score**, kami juga menyarankan untuk menggunakan metrik evaluasi tambahan seperti **ROC-AUC** atau **PR-AUC** (Precision-Recall AUC). Metrik ini sangat berguna, terutama pada dataset yang tidak seimbang, karena dapat memberikan gambaran yang lebih jelas tentang performa model pada seluruh distribusi kelas.\n",
        "\n",
        "---\n"
      ],
      "metadata": {
        "id": "Hm3BhSi6N4_l"
      }
    }
  ]
}